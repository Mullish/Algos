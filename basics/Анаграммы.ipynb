{
 "cells": [
  {
   "cell_type": "markdown",
   "metadata": {
    "id": "88rXdOCP3Vs7"
   },
   "source": [
    "# Есть список строк. Нужно вернуть список сгруппированных анаграмм."
   ]
  },
  {
   "cell_type": "code",
   "execution_count": null,
   "metadata": {
    "id": "eD-mw-vW3Srf"
   },
   "outputs": [],
   "source": [
    "def group_anagrams(strings):\n",
    "\n",
    "    anagram_map = {}  # Dictionary to store sorted word as key, list of anagrams as value\n",
    "\n",
    "    for string in strings:\n",
    "        sorted_string = \"\".join(sorted(string))  # Sort the characters in the string\n",
    "\n",
    "        if sorted_string in anagram_map:\n",
    "            anagram_map[sorted_string].append(string)  # Add string to existing anagram group\n",
    "        else:\n",
    "            anagram_map[sorted_string] = [string]  # Create a new anagram group\n",
    "\n",
    "    return list(anagram_map.values())  # Return the values (lists of anagrams)"
   ]
  },
  {
   "cell_type": "code",
   "execution_count": null,
   "metadata": {
    "colab": {
     "base_uri": "https://localhost:8080/"
    },
    "executionInfo": {
     "elapsed": 8,
     "status": "ok",
     "timestamp": 1747042990944,
     "user": {
      "displayName": "Julia Stepanova",
      "userId": "18284569625356044640"
     },
     "user_tz": -180
    },
    "id": "zVvya7uI4BtZ",
    "outputId": "f33de48f-a9b1-43a7-d86f-1bfd0e876fbc"
   },
   "outputs": [
    {
     "name": "stdout",
     "output_type": "stream",
     "text": [
      "[['tea', 'eat', 'ate'], ['listen', 'silent'], ['apple'], ['hello']]\n"
     ]
    }
   ],
   "source": [
    "# Example usage\n",
    "words = [\"tea\", \"eat\", \"ate\", \"listen\", \"silent\", \"apple\", \"hello\"]\n",
    "grouped_anagrams = group_anagrams(words)\n",
    "print(grouped_anagrams)  # Output: [['tea', 'eat', 'ate'], ['listen', 'silent'], ['apple'], ['hello']]"
   ]
  }
 ],
 "metadata": {
  "colab": {
   "authorship_tag": "ABX9TyMEJbllEZBoC/utZfR3D0sI",
   "provenance": []
  },
  "kernelspec": {
   "display_name": "Python 3",
   "name": "python3"
  },
  "language_info": {
   "name": "python"
  }
 },
 "nbformat": 4,
 "nbformat_minor": 0
}
